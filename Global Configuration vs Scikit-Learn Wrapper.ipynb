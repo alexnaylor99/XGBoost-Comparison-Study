{
 "cells": [
  {
   "cell_type": "markdown",
   "id": "86d100eb",
   "metadata": {},
   "source": [
    "### Performance Criteria:\n",
    "- Runtime\n",
    "- Model Accuracy\n",
    "\n",
    "Using a clean dataset which has been used for other xgboost models. The data relates to bank loan defaulters."
   ]
  },
  {
   "cell_type": "markdown",
   "id": "1f4153ca",
   "metadata": {},
   "source": [
    "We will first look at binary classification models. "
   ]
  },
  {
   "cell_type": "code",
   "execution_count": 30,
   "id": "60284b77",
   "metadata": {},
   "outputs": [],
   "source": [
    "import xgboost as xgb\n",
    "\n",
    "from sklearn.model_selection import train_test_split\n",
    "from sklearn.metrics import roc_auc_score\n",
    "from sklearn.metrics import log_loss\n",
    "\n",
    "from statistics import mean\n",
    "\n",
    "import pandas as pd\n",
    "import os\n",
    "import time"
   ]
  },
  {
   "cell_type": "code",
   "execution_count": 46,
   "id": "61a88e3d",
   "metadata": {},
   "outputs": [],
   "source": [
    "# Reading the data\n",
    "\n",
    "path_to_data = os.getenv('Documents') + 'XGBoost Comparison Study/Datasets/'\n",
    "\n",
    "train_data = pd.read_csv(path_to_data + 'train_clean.csv')\n",
    "test_data = pd.read_csv(path_to_data + 'test_clean.csv') # May not need this"
   ]
  },
  {
   "cell_type": "code",
   "execution_count": 5,
   "id": "609ce1c2",
   "metadata": {},
   "outputs": [
    {
     "data": {
      "text/html": [
       "<div>\n",
       "<style scoped>\n",
       "    .dataframe tbody tr th:only-of-type {\n",
       "        vertical-align: middle;\n",
       "    }\n",
       "\n",
       "    .dataframe tbody tr th {\n",
       "        vertical-align: top;\n",
       "    }\n",
       "\n",
       "    .dataframe thead th {\n",
       "        text-align: right;\n",
       "    }\n",
       "</style>\n",
       "<table border=\"1\" class=\"dataframe\">\n",
       "  <thead>\n",
       "    <tr style=\"text-align: right;\">\n",
       "      <th></th>\n",
       "      <th>Loan Amount</th>\n",
       "      <th>Funded Amount</th>\n",
       "      <th>Funded Amount Investor</th>\n",
       "      <th>Term</th>\n",
       "      <th>Interest Rate</th>\n",
       "      <th>Home Ownership</th>\n",
       "      <th>Debit to Income</th>\n",
       "      <th>Open Account</th>\n",
       "      <th>Revolving Balance</th>\n",
       "      <th>Revolving Utilities</th>\n",
       "      <th>...</th>\n",
       "      <th>Public Record_4</th>\n",
       "      <th>Delinquency - two years_0</th>\n",
       "      <th>Delinquency - two years_1</th>\n",
       "      <th>Delinquency - two years_2</th>\n",
       "      <th>Delinquency - two years_3</th>\n",
       "      <th>Delinquency - two years_4</th>\n",
       "      <th>Delinquency - two years_5</th>\n",
       "      <th>Delinquency - two years_6</th>\n",
       "      <th>Delinquency - two years_7</th>\n",
       "      <th>Delinquency - two years_8</th>\n",
       "    </tr>\n",
       "  </thead>\n",
       "  <tbody>\n",
       "    <tr>\n",
       "      <th>0</th>\n",
       "      <td>10000</td>\n",
       "      <td>32236</td>\n",
       "      <td>12329.36286</td>\n",
       "      <td>59</td>\n",
       "      <td>11.135007</td>\n",
       "      <td>176346.62670</td>\n",
       "      <td>16.284758</td>\n",
       "      <td>13</td>\n",
       "      <td>24246</td>\n",
       "      <td>74.932551</td>\n",
       "      <td>...</td>\n",
       "      <td>0</td>\n",
       "      <td>0</td>\n",
       "      <td>1</td>\n",
       "      <td>0</td>\n",
       "      <td>0</td>\n",
       "      <td>0</td>\n",
       "      <td>0</td>\n",
       "      <td>0</td>\n",
       "      <td>0</td>\n",
       "      <td>0</td>\n",
       "    </tr>\n",
       "    <tr>\n",
       "      <th>1</th>\n",
       "      <td>3609</td>\n",
       "      <td>11940</td>\n",
       "      <td>12191.99692</td>\n",
       "      <td>59</td>\n",
       "      <td>12.237563</td>\n",
       "      <td>39833.92100</td>\n",
       "      <td>15.412409</td>\n",
       "      <td>12</td>\n",
       "      <td>812</td>\n",
       "      <td>78.297186</td>\n",
       "      <td>...</td>\n",
       "      <td>0</td>\n",
       "      <td>1</td>\n",
       "      <td>0</td>\n",
       "      <td>0</td>\n",
       "      <td>0</td>\n",
       "      <td>0</td>\n",
       "      <td>0</td>\n",
       "      <td>0</td>\n",
       "      <td>0</td>\n",
       "      <td>0</td>\n",
       "    </tr>\n",
       "    <tr>\n",
       "      <th>2</th>\n",
       "      <td>28276</td>\n",
       "      <td>9311</td>\n",
       "      <td>21603.22455</td>\n",
       "      <td>59</td>\n",
       "      <td>12.545884</td>\n",
       "      <td>91506.69105</td>\n",
       "      <td>28.137619</td>\n",
       "      <td>14</td>\n",
       "      <td>1843</td>\n",
       "      <td>2.073040</td>\n",
       "      <td>...</td>\n",
       "      <td>0</td>\n",
       "      <td>1</td>\n",
       "      <td>0</td>\n",
       "      <td>0</td>\n",
       "      <td>0</td>\n",
       "      <td>0</td>\n",
       "      <td>0</td>\n",
       "      <td>0</td>\n",
       "      <td>0</td>\n",
       "      <td>0</td>\n",
       "    </tr>\n",
       "    <tr>\n",
       "      <th>3</th>\n",
       "      <td>11170</td>\n",
       "      <td>6954</td>\n",
       "      <td>17877.15585</td>\n",
       "      <td>59</td>\n",
       "      <td>16.731201</td>\n",
       "      <td>108286.57590</td>\n",
       "      <td>18.043730</td>\n",
       "      <td>7</td>\n",
       "      <td>13819</td>\n",
       "      <td>67.467951</td>\n",
       "      <td>...</td>\n",
       "      <td>0</td>\n",
       "      <td>0</td>\n",
       "      <td>1</td>\n",
       "      <td>0</td>\n",
       "      <td>0</td>\n",
       "      <td>0</td>\n",
       "      <td>0</td>\n",
       "      <td>0</td>\n",
       "      <td>0</td>\n",
       "      <td>0</td>\n",
       "    </tr>\n",
       "    <tr>\n",
       "      <th>4</th>\n",
       "      <td>16890</td>\n",
       "      <td>13226</td>\n",
       "      <td>13539.92667</td>\n",
       "      <td>59</td>\n",
       "      <td>15.008300</td>\n",
       "      <td>44234.82545</td>\n",
       "      <td>17.209886</td>\n",
       "      <td>13</td>\n",
       "      <td>1544</td>\n",
       "      <td>85.250761</td>\n",
       "      <td>...</td>\n",
       "      <td>0</td>\n",
       "      <td>0</td>\n",
       "      <td>1</td>\n",
       "      <td>0</td>\n",
       "      <td>0</td>\n",
       "      <td>0</td>\n",
       "      <td>0</td>\n",
       "      <td>0</td>\n",
       "      <td>0</td>\n",
       "      <td>0</td>\n",
       "    </tr>\n",
       "  </tbody>\n",
       "</table>\n",
       "<p>5 rows × 107 columns</p>\n",
       "</div>"
      ],
      "text/plain": [
       "   Loan Amount  Funded Amount  Funded Amount Investor  Term  Interest Rate  \\\n",
       "0        10000          32236             12329.36286    59      11.135007   \n",
       "1         3609          11940             12191.99692    59      12.237563   \n",
       "2        28276           9311             21603.22455    59      12.545884   \n",
       "3        11170           6954             17877.15585    59      16.731201   \n",
       "4        16890          13226             13539.92667    59      15.008300   \n",
       "\n",
       "   Home Ownership  Debit to Income  Open Account  Revolving Balance  \\\n",
       "0    176346.62670        16.284758            13              24246   \n",
       "1     39833.92100        15.412409            12                812   \n",
       "2     91506.69105        28.137619            14               1843   \n",
       "3    108286.57590        18.043730             7              13819   \n",
       "4     44234.82545        17.209886            13               1544   \n",
       "\n",
       "   Revolving Utilities  ...  Public Record_4  Delinquency - two years_0  \\\n",
       "0            74.932551  ...                0                          0   \n",
       "1            78.297186  ...                0                          1   \n",
       "2             2.073040  ...                0                          1   \n",
       "3            67.467951  ...                0                          0   \n",
       "4            85.250761  ...                0                          0   \n",
       "\n",
       "   Delinquency - two years_1  Delinquency - two years_2  \\\n",
       "0                          1                          0   \n",
       "1                          0                          0   \n",
       "2                          0                          0   \n",
       "3                          1                          0   \n",
       "4                          1                          0   \n",
       "\n",
       "   Delinquency - two years_3  Delinquency - two years_4  \\\n",
       "0                          0                          0   \n",
       "1                          0                          0   \n",
       "2                          0                          0   \n",
       "3                          0                          0   \n",
       "4                          0                          0   \n",
       "\n",
       "   Delinquency - two years_5  Delinquency - two years_6  \\\n",
       "0                          0                          0   \n",
       "1                          0                          0   \n",
       "2                          0                          0   \n",
       "3                          0                          0   \n",
       "4                          0                          0   \n",
       "\n",
       "   Delinquency - two years_7  Delinquency - two years_8  \n",
       "0                          0                          0  \n",
       "1                          0                          0  \n",
       "2                          0                          0  \n",
       "3                          0                          0  \n",
       "4                          0                          0  \n",
       "\n",
       "[5 rows x 107 columns]"
      ]
     },
     "execution_count": 5,
     "metadata": {},
     "output_type": "execute_result"
    }
   ],
   "source": [
    "# Working with train_data as has target variable (Loan Status)\n",
    "\n",
    "train_data.head()"
   ]
  },
  {
   "cell_type": "code",
   "execution_count": 6,
   "id": "9c8a4c39",
   "metadata": {},
   "outputs": [],
   "source": [
    "X = train_data.drop(['Loan Status'], axis=1)\n",
    "y = train_data['Loan Status']\n",
    "\n",
    "X_train, X_test, y_train, y_test = train_test_split(X, y, test_size=0.2, random_state=17)"
   ]
  },
  {
   "cell_type": "markdown",
   "id": "45f9e83c",
   "metadata": {},
   "source": [
    "### Scikit-Learn Wrapper"
   ]
  },
  {
   "cell_type": "code",
   "execution_count": 7,
   "id": "f9012f5e",
   "metadata": {},
   "outputs": [
    {
     "data": {
      "text/plain": [
       "{'objective': 'binary:logistic',\n",
       " 'use_label_encoder': True,\n",
       " 'base_score': None,\n",
       " 'booster': None,\n",
       " 'colsample_bylevel': None,\n",
       " 'colsample_bynode': None,\n",
       " 'colsample_bytree': None,\n",
       " 'enable_categorical': False,\n",
       " 'gamma': None,\n",
       " 'gpu_id': None,\n",
       " 'importance_type': None,\n",
       " 'interaction_constraints': None,\n",
       " 'learning_rate': None,\n",
       " 'max_delta_step': None,\n",
       " 'max_depth': None,\n",
       " 'min_child_weight': None,\n",
       " 'missing': nan,\n",
       " 'monotone_constraints': None,\n",
       " 'n_estimators': 100,\n",
       " 'n_jobs': None,\n",
       " 'num_parallel_tree': None,\n",
       " 'predictor': None,\n",
       " 'random_state': None,\n",
       " 'reg_alpha': None,\n",
       " 'reg_lambda': None,\n",
       " 'scale_pos_weight': None,\n",
       " 'subsample': None,\n",
       " 'tree_method': None,\n",
       " 'validate_parameters': None,\n",
       " 'verbosity': None}"
      ]
     },
     "execution_count": 7,
     "metadata": {},
     "output_type": "execute_result"
    }
   ],
   "source": [
    "# Scikit-Learn Wrapper\n",
    "\n",
    "# Parameters \n",
    "scikit_xgb = xgb.XGBClassifier()  \n",
    "scikit_xgb.get_params()"
   ]
  },
  {
   "cell_type": "code",
   "execution_count": 8,
   "id": "c27415ad",
   "metadata": {},
   "outputs": [
    {
     "name": "stderr",
     "output_type": "stream",
     "text": [
      "C:\\Users\\naylora1\\Anaconda3\\lib\\site-packages\\xgboost\\sklearn.py:1224: UserWarning: The use of label encoder in XGBClassifier is deprecated and will be removed in a future release. To remove this warning, do the following: 1) Pass option use_label_encoder=False when constructing XGBClassifier object; and 2) Encode your labels (y) as integers starting with 0, i.e. 0, 1, 2, ..., [num_class - 1].\n",
      "  warnings.warn(label_encoder_deprecation_msg, UserWarning)\n"
     ]
    },
    {
     "name": "stdout",
     "output_type": "stream",
     "text": [
      "Wall time: 15.4 s\n"
     ]
    }
   ],
   "source": [
    "%%time\n",
    "# Fitting the model\n",
    "\n",
    "model_1 = scikit_xgb.fit(X_train, y_train, eval_metric='auc')"
   ]
  },
  {
   "cell_type": "code",
   "execution_count": 18,
   "id": "43e8e3d5",
   "metadata": {},
   "outputs": [
    {
     "name": "stdout",
     "output_type": "stream",
     "text": [
      "Wall time: 36.3 ms\n"
     ]
    },
    {
     "data": {
      "text/plain": [
       "array([[0.92695266, 0.07304732],\n",
       "       [0.8921554 , 0.10784459],\n",
       "       [0.9165391 , 0.0834609 ],\n",
       "       ...,\n",
       "       [0.9226985 , 0.07730149],\n",
       "       [0.9052887 , 0.09471128],\n",
       "       [0.93470305, 0.06529693]], dtype=float32)"
      ]
     },
     "execution_count": 18,
     "metadata": {},
     "output_type": "execute_result"
    }
   ],
   "source": [
    "%%time\n",
    "# Predictions \n",
    "\n",
    "predictions_scikit = model_1.predict_proba(X_test)\n",
    "predictions_scikit"
   ]
  },
  {
   "cell_type": "code",
   "execution_count": 17,
   "id": "2e5229ea",
   "metadata": {},
   "outputs": [
    {
     "name": "stdout",
     "output_type": "stream",
     "text": [
      "Wall time: 14.6 ms\n"
     ]
    },
    {
     "data": {
      "text/plain": [
       "0.5102747061038507"
      ]
     },
     "execution_count": 17,
     "metadata": {},
     "output_type": "execute_result"
    }
   ],
   "source": [
    "%%time\n",
    "# Evaluation\n",
    "defaulter_prob = predictions_scikit[:,1]\n",
    "roc_auc_score(y_test, defaulter_prob)"
   ]
  },
  {
   "cell_type": "markdown",
   "id": "c39f5709",
   "metadata": {},
   "source": [
    "### Global Configuration"
   ]
  },
  {
   "cell_type": "code",
   "execution_count": 19,
   "id": "2e7990bd",
   "metadata": {},
   "outputs": [
    {
     "name": "stdout",
     "output_type": "stream",
     "text": [
      "Wall time: 227 ms\n"
     ]
    }
   ],
   "source": [
    "%%time\n",
    "# Global Configuration\n",
    "\n",
    "params = scikit_xgb.get_params()\n",
    "params['eval_metric'] = 'auc'\n",
    "\n",
    "dtrain = xgb.DMatrix(X_train, label=y_train)\n",
    "dtest = xgb.DMatrix(X_test, label=y_test)\n",
    "\n",
    "eval_list = [(dtrain, 'train'), (dtest, 'test')]"
   ]
  },
  {
   "cell_type": "code",
   "execution_count": 20,
   "id": "b2dd2c0c",
   "metadata": {},
   "outputs": [
    {
     "name": "stdout",
     "output_type": "stream",
     "text": [
      "Wall time: 14 s\n"
     ]
    }
   ],
   "source": [
    "%%time\n",
    "# Fitting the model\n",
    "\n",
    "del params['enable_categorical']\n",
    "del params['missing']\n",
    "del params['n_estimators']\n",
    "del params['use_label_encoder']\n",
    "\n",
    "model_2 = xgb.train(params=params, dtrain=eval_list[0][0], num_boost_round=100) # Consistant with wrapper"
   ]
  },
  {
   "cell_type": "code",
   "execution_count": 21,
   "id": "391f0c89",
   "metadata": {},
   "outputs": [
    {
     "name": "stdout",
     "output_type": "stream",
     "text": [
      "Wall time: 13.2 ms\n"
     ]
    },
    {
     "data": {
      "text/plain": [
       "array([0.07304732, 0.10784459, 0.0834609 , ..., 0.07730149, 0.09471128,\n",
       "       0.06529693], dtype=float32)"
      ]
     },
     "execution_count": 21,
     "metadata": {},
     "output_type": "execute_result"
    }
   ],
   "source": [
    "%%time \n",
    "# Predictions \n",
    "\n",
    "predictions_glob = model_2.predict(eval_list[1][0])\n",
    "predictions_glob"
   ]
  },
  {
   "cell_type": "code",
   "execution_count": 22,
   "id": "519f271d",
   "metadata": {},
   "outputs": [
    {
     "name": "stdout",
     "output_type": "stream",
     "text": [
      "Wall time: 18 ms\n"
     ]
    },
    {
     "data": {
      "text/plain": [
       "0.5102747061038507"
      ]
     },
     "execution_count": 22,
     "metadata": {},
     "output_type": "execute_result"
    }
   ],
   "source": [
    "%%time\n",
    "# Evaluation\n",
    "\n",
    "roc_auc_score(dtest.get_label(), predictions_glob)"
   ]
  },
  {
   "cell_type": "code",
   "execution_count": 23,
   "id": "ea1c2ac7",
   "metadata": {},
   "outputs": [],
   "source": [
    "# Exact same roc_auc_score for Global Configuration and Scikit-Learn Wrapper"
   ]
  },
  {
   "cell_type": "markdown",
   "id": "9bedd160",
   "metadata": {},
   "source": [
    "### Runtime"
   ]
  },
  {
   "cell_type": "code",
   "execution_count": 24,
   "id": "46161429",
   "metadata": {},
   "outputs": [
    {
     "name": "stderr",
     "output_type": "stream",
     "text": [
      "C:\\Users\\naylora1\\Anaconda3\\lib\\site-packages\\xgboost\\sklearn.py:1224: UserWarning: The use of label encoder in XGBClassifier is deprecated and will be removed in a future release. To remove this warning, do the following: 1) Pass option use_label_encoder=False when constructing XGBClassifier object; and 2) Encode your labels (y) as integers starting with 0, i.e. 0, 1, 2, ..., [num_class - 1].\n",
      "  warnings.warn(label_encoder_deprecation_msg, UserWarning)\n"
     ]
    },
    {
     "ename": "NameError",
     "evalue": "name 'scikit_rumtime' is not defined",
     "output_type": "error",
     "traceback": [
      "\u001b[1;31m---------------------------------------------------------------------------\u001b[0m",
      "\u001b[1;31mNameError\u001b[0m                                 Traceback (most recent call last)",
      "\u001b[1;32m~\\AppData\\Local\\Temp/ipykernel_14492/3711359101.py\u001b[0m in \u001b[0;36m<module>\u001b[1;34m\u001b[0m\n\u001b[0;32m     11\u001b[0m     \u001b[0mscikit_runtime\u001b[0m\u001b[1;33m.\u001b[0m\u001b[0mappend\u001b[0m\u001b[1;33m(\u001b[0m\u001b[0mtime\u001b[0m\u001b[1;33m.\u001b[0m\u001b[0mtime\u001b[0m\u001b[1;33m(\u001b[0m\u001b[1;33m)\u001b[0m \u001b[1;33m-\u001b[0m \u001b[0mstart_time\u001b[0m\u001b[1;33m)\u001b[0m\u001b[1;33m\u001b[0m\u001b[1;33m\u001b[0m\u001b[0m\n\u001b[0;32m     12\u001b[0m \u001b[1;33m\u001b[0m\u001b[0m\n\u001b[1;32m---> 13\u001b[1;33m \u001b[0mprint\u001b[0m\u001b[1;33m(\u001b[0m\u001b[1;34m'Average train time:'\u001b[0m\u001b[1;33m,\u001b[0m \u001b[0mscikit_rumtime\u001b[0m\u001b[1;33m.\u001b[0m\u001b[0mmean\u001b[0m\u001b[1;33m(\u001b[0m\u001b[1;33m)\u001b[0m\u001b[1;33m)\u001b[0m\u001b[1;33m\u001b[0m\u001b[1;33m\u001b[0m\u001b[0m\n\u001b[0m",
      "\u001b[1;31mNameError\u001b[0m: name 'scikit_rumtime' is not defined"
     ]
    }
   ],
   "source": [
    "# Scikit-Learn Wrapper\n",
    "\n",
    "scikit_runtime = []\n",
    "\n",
    "for i in range(10):\n",
    "    \n",
    "    start_time = time.time()\n",
    "    \n",
    "    model_scikit = scikit_xgb.fit(X_train, y_train, eval_metric='auc')\n",
    "    \n",
    "    scikit_runtime.append(time.time() - start_time)"
   ]
  },
  {
   "cell_type": "code",
   "execution_count": 31,
   "id": "c35ef943",
   "metadata": {},
   "outputs": [
    {
     "name": "stdout",
     "output_type": "stream",
     "text": [
      "Average train time: 14.810705661773682\n"
     ]
    }
   ],
   "source": [
    "print('Average train time:', mean(scikit_runtime))"
   ]
  },
  {
   "cell_type": "code",
   "execution_count": 33,
   "id": "281c5e94",
   "metadata": {},
   "outputs": [],
   "source": [
    "# Global Configuration\n",
    "\n",
    "glob_runtime = []\n",
    "\n",
    "for i in range(10):\n",
    "    \n",
    "    start_time = time.time()\n",
    "    \n",
    "    model_glob = xgb.train(params=params, dtrain=eval_list[0][0], num_boost_round=100)\n",
    "    \n",
    "    glob_runtime.append(time.time() - start_time)"
   ]
  },
  {
   "cell_type": "code",
   "execution_count": 34,
   "id": "bd34da84",
   "metadata": {},
   "outputs": [
    {
     "name": "stdout",
     "output_type": "stream",
     "text": [
      "Average train time: 9.228725481033326\n"
     ]
    }
   ],
   "source": [
    "print('Average train time:', mean(glob_runtime))"
   ]
  },
  {
   "cell_type": "code",
   "execution_count": null,
   "id": "eb2acd73",
   "metadata": {},
   "outputs": [],
   "source": [
    "# With the global wrapper, there is a noticable performance difference"
   ]
  },
  {
   "cell_type": "markdown",
   "id": "988ffa21",
   "metadata": {},
   "source": [
    "### Cross Validation"
   ]
  },
  {
   "cell_type": "code",
   "execution_count": 48,
   "id": "013dcd54",
   "metadata": {},
   "outputs": [
    {
     "name": "stderr",
     "output_type": "stream",
     "text": [
      "C:\\Users\\naylora1\\Anaconda3\\lib\\site-packages\\xgboost\\sklearn.py:1224: UserWarning: The use of label encoder in XGBClassifier is deprecated and will be removed in a future release. To remove this warning, do the following: 1) Pass option use_label_encoder=False when constructing XGBClassifier object; and 2) Encode your labels (y) as integers starting with 0, i.e. 0, 1, 2, ..., [num_class - 1].\n",
      "  warnings.warn(label_encoder_deprecation_msg, UserWarning)\n",
      "C:\\Users\\naylora1\\Anaconda3\\lib\\site-packages\\xgboost\\sklearn.py:1224: UserWarning: The use of label encoder in XGBClassifier is deprecated and will be removed in a future release. To remove this warning, do the following: 1) Pass option use_label_encoder=False when constructing XGBClassifier object; and 2) Encode your labels (y) as integers starting with 0, i.e. 0, 1, 2, ..., [num_class - 1].\n",
      "  warnings.warn(label_encoder_deprecation_msg, UserWarning)\n",
      "C:\\Users\\naylora1\\Anaconda3\\lib\\site-packages\\xgboost\\sklearn.py:1224: UserWarning: The use of label encoder in XGBClassifier is deprecated and will be removed in a future release. To remove this warning, do the following: 1) Pass option use_label_encoder=False when constructing XGBClassifier object; and 2) Encode your labels (y) as integers starting with 0, i.e. 0, 1, 2, ..., [num_class - 1].\n",
      "  warnings.warn(label_encoder_deprecation_msg, UserWarning)\n",
      "C:\\Users\\naylora1\\Anaconda3\\lib\\site-packages\\xgboost\\sklearn.py:1224: UserWarning: The use of label encoder in XGBClassifier is deprecated and will be removed in a future release. To remove this warning, do the following: 1) Pass option use_label_encoder=False when constructing XGBClassifier object; and 2) Encode your labels (y) as integers starting with 0, i.e. 0, 1, 2, ..., [num_class - 1].\n",
      "  warnings.warn(label_encoder_deprecation_msg, UserWarning)\n",
      "C:\\Users\\naylora1\\Anaconda3\\lib\\site-packages\\xgboost\\sklearn.py:1224: UserWarning: The use of label encoder in XGBClassifier is deprecated and will be removed in a future release. To remove this warning, do the following: 1) Pass option use_label_encoder=False when constructing XGBClassifier object; and 2) Encode your labels (y) as integers starting with 0, i.e. 0, 1, 2, ..., [num_class - 1].\n",
      "  warnings.warn(label_encoder_deprecation_msg, UserWarning)\n"
     ]
    },
    {
     "name": "stdout",
     "output_type": "stream",
     "text": [
      "Runtime: 40.08089208602905\n",
      "Average roc_auc_score: 0.5138134349877176\n"
     ]
    }
   ],
   "source": [
    "# Scikit-Learn \n",
    "\n",
    "from sklearn.model_selection import KFold\n",
    "\n",
    "X = train_data.drop(['Loan Status'], axis=1)\n",
    "y = train_data['Loan Status']\n",
    "\n",
    "# With ten folds\n",
    "start_time = time.time()\n",
    "\n",
    "kf = KFold(n_splits=5)\n",
    "\n",
    "roc_auc_scores = []\n",
    "\n",
    "for train_index, test_index in kf.split(X, y):\n",
    "    \n",
    "    X_train= X.iloc[train_index]\n",
    "    X_test = X.iloc[test_index]\n",
    "    y_train = y.iloc[train_index] \n",
    "    y_test = y.iloc[test_index]\n",
    "    \n",
    "    model_scikit = scikit_xgb.fit(X_train, y_train, eval_metric='auc')\n",
    "    \n",
    "    predictions_scikit = model_1.predict_proba(X_test)\n",
    "    \n",
    "    defaulter_prob = predictions_scikit[:,1]\n",
    "    roc_auc_scores.append(roc_auc_score(y_test, defaulter_prob))\n",
    "    \n",
    "end_time = time.time() - start_time\n",
    "\n",
    "print('Runtime:', end_time)\n",
    "print('Average roc_auc_score:', mean(roc_auc_scores))"
   ]
  },
  {
   "cell_type": "code",
   "execution_count": 51,
   "id": "48ed15c4",
   "metadata": {},
   "outputs": [
    {
     "name": "stdout",
     "output_type": "stream",
     "text": [
      "[0]\ttrain-auc:0.54510+0.00533\ttest-auc:0.51584+0.00590\n",
      "[1]\ttrain-auc:0.56852+0.00560\ttest-auc:0.51970+0.00486\n",
      "[2]\ttrain-auc:0.58603+0.00618\ttest-auc:0.51654+0.00240\n",
      "[3]\ttrain-auc:0.60203+0.00753\ttest-auc:0.51718+0.00186\n",
      "[4]\ttrain-auc:0.62407+0.00531\ttest-auc:0.51772+0.00526\n",
      "[5]\ttrain-auc:0.64081+0.00475\ttest-auc:0.51835+0.00526\n",
      "[6]\ttrain-auc:0.66143+0.00309\ttest-auc:0.51559+0.00500\n",
      "[7]\ttrain-auc:0.67937+0.00408\ttest-auc:0.51747+0.00569\n",
      "[8]\ttrain-auc:0.69174+0.00469\ttest-auc:0.52085+0.00478\n",
      "[9]\ttrain-auc:0.70393+0.00359\ttest-auc:0.51863+0.00664\n",
      "[10]\ttrain-auc:0.71653+0.00396\ttest-auc:0.52051+0.00426\n",
      "[11]\ttrain-auc:0.72703+0.00534\ttest-auc:0.52052+0.00502\n",
      "[12]\ttrain-auc:0.73672+0.00515\ttest-auc:0.51853+0.00375\n",
      "[13]\ttrain-auc:0.74595+0.00445\ttest-auc:0.51929+0.00498\n",
      "[14]\ttrain-auc:0.75225+0.00317\ttest-auc:0.51838+0.00610\n",
      "[15]\ttrain-auc:0.75825+0.00418\ttest-auc:0.51773+0.00666\n",
      "[16]\ttrain-auc:0.76546+0.00603\ttest-auc:0.51840+0.00727\n",
      "[17]\ttrain-auc:0.77037+0.00633\ttest-auc:0.51795+0.00705\n",
      "[18]\ttrain-auc:0.77661+0.00594\ttest-auc:0.51747+0.00596\n",
      "[19]\ttrain-auc:0.78310+0.00587\ttest-auc:0.51781+0.00491\n",
      "[20]\ttrain-auc:0.78914+0.00419\ttest-auc:0.51718+0.00400\n",
      "[21]\ttrain-auc:0.79373+0.00615\ttest-auc:0.51745+0.00425\n",
      "[22]\ttrain-auc:0.79849+0.00778\ttest-auc:0.51767+0.00529\n",
      "[23]\ttrain-auc:0.80406+0.00862\ttest-auc:0.51746+0.00434\n",
      "[24]\ttrain-auc:0.81019+0.00768\ttest-auc:0.51732+0.00427\n",
      "[25]\ttrain-auc:0.81441+0.00731\ttest-auc:0.51851+0.00320\n",
      "[26]\ttrain-auc:0.81774+0.00823\ttest-auc:0.51825+0.00490\n",
      "[27]\ttrain-auc:0.82220+0.00827\ttest-auc:0.51791+0.00524\n",
      "[28]\ttrain-auc:0.82610+0.00810\ttest-auc:0.51741+0.00542\n",
      "[29]\ttrain-auc:0.83121+0.00705\ttest-auc:0.51654+0.00499\n",
      "[30]\ttrain-auc:0.83525+0.00594\ttest-auc:0.51717+0.00352\n",
      "[31]\ttrain-auc:0.83915+0.00476\ttest-auc:0.51684+0.00402\n",
      "[32]\ttrain-auc:0.84219+0.00379\ttest-auc:0.51661+0.00401\n",
      "[33]\ttrain-auc:0.84499+0.00340\ttest-auc:0.51751+0.00288\n",
      "[34]\ttrain-auc:0.84747+0.00315\ttest-auc:0.51822+0.00201\n",
      "[35]\ttrain-auc:0.84879+0.00346\ttest-auc:0.51821+0.00178\n",
      "[36]\ttrain-auc:0.85209+0.00283\ttest-auc:0.51873+0.00169\n",
      "[37]\ttrain-auc:0.85482+0.00248\ttest-auc:0.51881+0.00113\n",
      "[38]\ttrain-auc:0.85836+0.00377\ttest-auc:0.51765+0.00121\n",
      "[39]\ttrain-auc:0.86141+0.00468\ttest-auc:0.51748+0.00086\n",
      "[40]\ttrain-auc:0.86426+0.00360\ttest-auc:0.51807+0.00175\n",
      "[41]\ttrain-auc:0.86627+0.00284\ttest-auc:0.51732+0.00178\n",
      "[42]\ttrain-auc:0.86863+0.00371\ttest-auc:0.51776+0.00141\n",
      "[43]\ttrain-auc:0.87068+0.00374\ttest-auc:0.51728+0.00187\n",
      "[44]\ttrain-auc:0.87287+0.00264\ttest-auc:0.51706+0.00259\n",
      "[45]\ttrain-auc:0.87514+0.00231\ttest-auc:0.51724+0.00201\n",
      "[46]\ttrain-auc:0.87796+0.00278\ttest-auc:0.51741+0.00180\n",
      "[47]\ttrain-auc:0.88007+0.00344\ttest-auc:0.51772+0.00271\n",
      "[48]\ttrain-auc:0.88157+0.00341\ttest-auc:0.51730+0.00220\n",
      "[49]\ttrain-auc:0.88339+0.00300\ttest-auc:0.51785+0.00257\n",
      "[50]\ttrain-auc:0.88562+0.00317\ttest-auc:0.51782+0.00296\n",
      "[51]\ttrain-auc:0.88698+0.00256\ttest-auc:0.51781+0.00309\n",
      "[52]\ttrain-auc:0.88906+0.00274\ttest-auc:0.51804+0.00256\n",
      "[53]\ttrain-auc:0.89129+0.00322\ttest-auc:0.51825+0.00324\n",
      "[54]\ttrain-auc:0.89342+0.00306\ttest-auc:0.51856+0.00322\n",
      "[55]\ttrain-auc:0.89465+0.00358\ttest-auc:0.51863+0.00340\n",
      "[56]\ttrain-auc:0.89702+0.00314\ttest-auc:0.51952+0.00409\n",
      "[57]\ttrain-auc:0.89884+0.00351\ttest-auc:0.51924+0.00428\n",
      "[58]\ttrain-auc:0.90004+0.00415\ttest-auc:0.51918+0.00399\n",
      "[59]\ttrain-auc:0.90238+0.00479\ttest-auc:0.51871+0.00426\n",
      "[60]\ttrain-auc:0.90412+0.00506\ttest-auc:0.51818+0.00433\n",
      "[61]\ttrain-auc:0.90655+0.00571\ttest-auc:0.51828+0.00417\n",
      "[62]\ttrain-auc:0.90887+0.00503\ttest-auc:0.51798+0.00462\n",
      "[63]\ttrain-auc:0.91061+0.00523\ttest-auc:0.51832+0.00440\n",
      "[64]\ttrain-auc:0.91187+0.00569\ttest-auc:0.51844+0.00419\n",
      "[65]\ttrain-auc:0.91315+0.00597\ttest-auc:0.51884+0.00498\n",
      "[66]\ttrain-auc:0.91537+0.00612\ttest-auc:0.51864+0.00457\n",
      "[67]\ttrain-auc:0.91609+0.00604\ttest-auc:0.51891+0.00452\n",
      "[68]\ttrain-auc:0.91766+0.00572\ttest-auc:0.51850+0.00478\n",
      "[69]\ttrain-auc:0.91922+0.00610\ttest-auc:0.51877+0.00519\n",
      "[70]\ttrain-auc:0.92056+0.00658\ttest-auc:0.51916+0.00545\n",
      "[71]\ttrain-auc:0.92201+0.00668\ttest-auc:0.51907+0.00598\n",
      "[72]\ttrain-auc:0.92370+0.00706\ttest-auc:0.51904+0.00580\n",
      "[73]\ttrain-auc:0.92514+0.00648\ttest-auc:0.51881+0.00568\n",
      "[74]\ttrain-auc:0.92674+0.00607\ttest-auc:0.51879+0.00589\n",
      "[75]\ttrain-auc:0.92767+0.00596\ttest-auc:0.51904+0.00602\n",
      "[76]\ttrain-auc:0.92858+0.00564\ttest-auc:0.51939+0.00601\n",
      "[77]\ttrain-auc:0.93029+0.00578\ttest-auc:0.51922+0.00581\n",
      "[78]\ttrain-auc:0.93175+0.00605\ttest-auc:0.51968+0.00662\n",
      "[79]\ttrain-auc:0.93327+0.00610\ttest-auc:0.51995+0.00735\n",
      "[80]\ttrain-auc:0.93410+0.00606\ttest-auc:0.52045+0.00649\n",
      "[81]\ttrain-auc:0.93520+0.00619\ttest-auc:0.52107+0.00630\n",
      "[82]\ttrain-auc:0.93594+0.00583\ttest-auc:0.52086+0.00639\n",
      "[83]\ttrain-auc:0.93738+0.00544\ttest-auc:0.52050+0.00652\n",
      "[84]\ttrain-auc:0.93823+0.00527\ttest-auc:0.52042+0.00602\n",
      "[85]\ttrain-auc:0.93939+0.00519\ttest-auc:0.52043+0.00642\n",
      "[86]\ttrain-auc:0.94041+0.00533\ttest-auc:0.52089+0.00632\n",
      "[87]\ttrain-auc:0.94148+0.00539\ttest-auc:0.52108+0.00598\n",
      "[88]\ttrain-auc:0.94244+0.00585\ttest-auc:0.52148+0.00655\n",
      "[89]\ttrain-auc:0.94330+0.00568\ttest-auc:0.52100+0.00678\n",
      "[90]\ttrain-auc:0.94494+0.00574\ttest-auc:0.52111+0.00652\n",
      "[91]\ttrain-auc:0.94568+0.00554\ttest-auc:0.52140+0.00641\n",
      "[92]\ttrain-auc:0.94648+0.00574\ttest-auc:0.52126+0.00610\n",
      "[93]\ttrain-auc:0.94730+0.00602\ttest-auc:0.52115+0.00570\n",
      "[94]\ttrain-auc:0.94811+0.00591\ttest-auc:0.52113+0.00597\n",
      "[95]\ttrain-auc:0.94918+0.00588\ttest-auc:0.52096+0.00583\n",
      "[96]\ttrain-auc:0.95021+0.00576\ttest-auc:0.52050+0.00552\n",
      "[97]\ttrain-auc:0.95081+0.00526\ttest-auc:0.52070+0.00554\n",
      "[98]\ttrain-auc:0.95152+0.00531\ttest-auc:0.52027+0.00527\n",
      "[99]\ttrain-auc:0.95254+0.00481\ttest-auc:0.52040+0.00534\n",
      "Runtime: 39.185569047927856\n"
     ]
    }
   ],
   "source": [
    "# Global Wrapper \n",
    "\n",
    "start_time = time.time()\n",
    "\n",
    "eval_hist = xgb.cv(params=params, dtrain=eval_list[0][0], num_boost_round=100, nfold=5, folds=kf, metrics='auc',\n",
    "                  verbose_eval=True)\n",
    "\n",
    "print('Runtime:', time.time()- start_time)"
   ]
  },
  {
   "cell_type": "code",
   "execution_count": 52,
   "id": "dc2d3c1d",
   "metadata": {},
   "outputs": [
    {
     "data": {
      "text/html": [
       "<div>\n",
       "<style scoped>\n",
       "    .dataframe tbody tr th:only-of-type {\n",
       "        vertical-align: middle;\n",
       "    }\n",
       "\n",
       "    .dataframe tbody tr th {\n",
       "        vertical-align: top;\n",
       "    }\n",
       "\n",
       "    .dataframe thead th {\n",
       "        text-align: right;\n",
       "    }\n",
       "</style>\n",
       "<table border=\"1\" class=\"dataframe\">\n",
       "  <thead>\n",
       "    <tr style=\"text-align: right;\">\n",
       "      <th></th>\n",
       "      <th>train-auc-mean</th>\n",
       "      <th>train-auc-std</th>\n",
       "      <th>test-auc-mean</th>\n",
       "      <th>test-auc-std</th>\n",
       "    </tr>\n",
       "  </thead>\n",
       "  <tbody>\n",
       "    <tr>\n",
       "      <th>0</th>\n",
       "      <td>0.545101</td>\n",
       "      <td>0.005327</td>\n",
       "      <td>0.515843</td>\n",
       "      <td>0.005905</td>\n",
       "    </tr>\n",
       "    <tr>\n",
       "      <th>1</th>\n",
       "      <td>0.568523</td>\n",
       "      <td>0.005596</td>\n",
       "      <td>0.519700</td>\n",
       "      <td>0.004861</td>\n",
       "    </tr>\n",
       "    <tr>\n",
       "      <th>2</th>\n",
       "      <td>0.586026</td>\n",
       "      <td>0.006183</td>\n",
       "      <td>0.516539</td>\n",
       "      <td>0.002396</td>\n",
       "    </tr>\n",
       "    <tr>\n",
       "      <th>3</th>\n",
       "      <td>0.602032</td>\n",
       "      <td>0.007535</td>\n",
       "      <td>0.517180</td>\n",
       "      <td>0.001864</td>\n",
       "    </tr>\n",
       "    <tr>\n",
       "      <th>4</th>\n",
       "      <td>0.624073</td>\n",
       "      <td>0.005309</td>\n",
       "      <td>0.517724</td>\n",
       "      <td>0.005257</td>\n",
       "    </tr>\n",
       "    <tr>\n",
       "      <th>...</th>\n",
       "      <td>...</td>\n",
       "      <td>...</td>\n",
       "      <td>...</td>\n",
       "      <td>...</td>\n",
       "    </tr>\n",
       "    <tr>\n",
       "      <th>95</th>\n",
       "      <td>0.949178</td>\n",
       "      <td>0.005881</td>\n",
       "      <td>0.520957</td>\n",
       "      <td>0.005833</td>\n",
       "    </tr>\n",
       "    <tr>\n",
       "      <th>96</th>\n",
       "      <td>0.950207</td>\n",
       "      <td>0.005757</td>\n",
       "      <td>0.520499</td>\n",
       "      <td>0.005519</td>\n",
       "    </tr>\n",
       "    <tr>\n",
       "      <th>97</th>\n",
       "      <td>0.950806</td>\n",
       "      <td>0.005264</td>\n",
       "      <td>0.520698</td>\n",
       "      <td>0.005540</td>\n",
       "    </tr>\n",
       "    <tr>\n",
       "      <th>98</th>\n",
       "      <td>0.951524</td>\n",
       "      <td>0.005313</td>\n",
       "      <td>0.520267</td>\n",
       "      <td>0.005266</td>\n",
       "    </tr>\n",
       "    <tr>\n",
       "      <th>99</th>\n",
       "      <td>0.952539</td>\n",
       "      <td>0.004813</td>\n",
       "      <td>0.520401</td>\n",
       "      <td>0.005343</td>\n",
       "    </tr>\n",
       "  </tbody>\n",
       "</table>\n",
       "<p>100 rows × 4 columns</p>\n",
       "</div>"
      ],
      "text/plain": [
       "    train-auc-mean  train-auc-std  test-auc-mean  test-auc-std\n",
       "0         0.545101       0.005327       0.515843      0.005905\n",
       "1         0.568523       0.005596       0.519700      0.004861\n",
       "2         0.586026       0.006183       0.516539      0.002396\n",
       "3         0.602032       0.007535       0.517180      0.001864\n",
       "4         0.624073       0.005309       0.517724      0.005257\n",
       "..             ...            ...            ...           ...\n",
       "95        0.949178       0.005881       0.520957      0.005833\n",
       "96        0.950207       0.005757       0.520499      0.005519\n",
       "97        0.950806       0.005264       0.520698      0.005540\n",
       "98        0.951524       0.005313       0.520267      0.005266\n",
       "99        0.952539       0.004813       0.520401      0.005343\n",
       "\n",
       "[100 rows x 4 columns]"
      ]
     },
     "execution_count": 52,
     "metadata": {},
     "output_type": "execute_result"
    }
   ],
   "source": [
    "eval_hist"
   ]
  },
  {
   "cell_type": "code",
   "execution_count": 53,
   "id": "6e5d38ca",
   "metadata": {},
   "outputs": [
    {
     "name": "stderr",
     "output_type": "stream",
     "text": [
      "C:\\Users\\naylora1\\Anaconda3\\lib\\site-packages\\xgboost\\sklearn.py:1224: UserWarning: The use of label encoder in XGBClassifier is deprecated and will be removed in a future release. To remove this warning, do the following: 1) Pass option use_label_encoder=False when constructing XGBClassifier object; and 2) Encode your labels (y) as integers starting with 0, i.e. 0, 1, 2, ..., [num_class - 1].\n",
      "  warnings.warn(label_encoder_deprecation_msg, UserWarning)\n",
      "C:\\Users\\naylora1\\Anaconda3\\lib\\site-packages\\xgboost\\sklearn.py:1224: UserWarning: The use of label encoder in XGBClassifier is deprecated and will be removed in a future release. To remove this warning, do the following: 1) Pass option use_label_encoder=False when constructing XGBClassifier object; and 2) Encode your labels (y) as integers starting with 0, i.e. 0, 1, 2, ..., [num_class - 1].\n",
      "  warnings.warn(label_encoder_deprecation_msg, UserWarning)\n",
      "C:\\Users\\naylora1\\Anaconda3\\lib\\site-packages\\xgboost\\sklearn.py:1224: UserWarning: The use of label encoder in XGBClassifier is deprecated and will be removed in a future release. To remove this warning, do the following: 1) Pass option use_label_encoder=False when constructing XGBClassifier object; and 2) Encode your labels (y) as integers starting with 0, i.e. 0, 1, 2, ..., [num_class - 1].\n",
      "  warnings.warn(label_encoder_deprecation_msg, UserWarning)\n",
      "C:\\Users\\naylora1\\Anaconda3\\lib\\site-packages\\xgboost\\sklearn.py:1224: UserWarning: The use of label encoder in XGBClassifier is deprecated and will be removed in a future release. To remove this warning, do the following: 1) Pass option use_label_encoder=False when constructing XGBClassifier object; and 2) Encode your labels (y) as integers starting with 0, i.e. 0, 1, 2, ..., [num_class - 1].\n",
      "  warnings.warn(label_encoder_deprecation_msg, UserWarning)\n",
      "C:\\Users\\naylora1\\Anaconda3\\lib\\site-packages\\xgboost\\sklearn.py:1224: UserWarning: The use of label encoder in XGBClassifier is deprecated and will be removed in a future release. To remove this warning, do the following: 1) Pass option use_label_encoder=False when constructing XGBClassifier object; and 2) Encode your labels (y) as integers starting with 0, i.e. 0, 1, 2, ..., [num_class - 1].\n",
      "  warnings.warn(label_encoder_deprecation_msg, UserWarning)\n"
     ]
    },
    {
     "name": "stdout",
     "output_type": "stream",
     "text": [
      "Runtime: 44.095080614089966\n",
      "Average roc_auc_score: 0.5126130282462368\n"
     ]
    }
   ],
   "source": [
    "# Stratified \n",
    "\n",
    "# Scikit-Learn Wrapper\n",
    "\n",
    "from sklearn.model_selection import StratifiedKFold\n",
    "\n",
    "start_time = time.time()\n",
    "roc_auc_scores =[]\n",
    "\n",
    "skf = StratifiedKFold(n_splits=5)\n",
    "\n",
    "for train_index, test_index in skf.split(X, y):\n",
    "    \n",
    "    X_train = X.iloc[train_index]\n",
    "    X_test = X.iloc[test_index]\n",
    "    y_train = y.iloc[train_index]\n",
    "    y_test = y.iloc[test_index]\n",
    "    \n",
    "    model_scikit = scikit_xgb.fit(X_train, y_train, eval_metric='auc')\n",
    "    \n",
    "    predictions_scikit = model_1.predict_proba(X_test)\n",
    "    \n",
    "    defaulter_prob = predictions_scikit[:,1]\n",
    "    roc_auc_scores.append(roc_auc_score(y_test, defaulter_prob))\n",
    "    \n",
    "end_time = time.time() - start_time\n",
    "\n",
    "print('Runtime:', end_time)\n",
    "print('Average roc_auc_score:', mean(roc_auc_scores))"
   ]
  },
  {
   "cell_type": "code",
   "execution_count": 54,
   "id": "aecbc4cd",
   "metadata": {},
   "outputs": [
    {
     "name": "stdout",
     "output_type": "stream",
     "text": [
      "[0]\ttrain-auc:0.54510+0.00533\ttest-auc:0.51584+0.00590\n",
      "[1]\ttrain-auc:0.56852+0.00560\ttest-auc:0.51970+0.00486\n",
      "[2]\ttrain-auc:0.58603+0.00618\ttest-auc:0.51654+0.00240\n",
      "[3]\ttrain-auc:0.60203+0.00753\ttest-auc:0.51718+0.00186\n",
      "[4]\ttrain-auc:0.62407+0.00531\ttest-auc:0.51772+0.00526\n",
      "[5]\ttrain-auc:0.64081+0.00475\ttest-auc:0.51835+0.00526\n",
      "[6]\ttrain-auc:0.66143+0.00309\ttest-auc:0.51559+0.00500\n",
      "[7]\ttrain-auc:0.67937+0.00408\ttest-auc:0.51747+0.00569\n",
      "[8]\ttrain-auc:0.69174+0.00469\ttest-auc:0.52085+0.00478\n",
      "[9]\ttrain-auc:0.70393+0.00359\ttest-auc:0.51863+0.00664\n",
      "[10]\ttrain-auc:0.71653+0.00396\ttest-auc:0.52051+0.00426\n",
      "[11]\ttrain-auc:0.72703+0.00534\ttest-auc:0.52052+0.00502\n",
      "[12]\ttrain-auc:0.73672+0.00515\ttest-auc:0.51853+0.00375\n",
      "[13]\ttrain-auc:0.74595+0.00445\ttest-auc:0.51929+0.00498\n",
      "[14]\ttrain-auc:0.75225+0.00317\ttest-auc:0.51838+0.00610\n",
      "[15]\ttrain-auc:0.75825+0.00418\ttest-auc:0.51773+0.00666\n",
      "[16]\ttrain-auc:0.76546+0.00603\ttest-auc:0.51840+0.00727\n",
      "[17]\ttrain-auc:0.77037+0.00633\ttest-auc:0.51795+0.00705\n",
      "[18]\ttrain-auc:0.77661+0.00594\ttest-auc:0.51747+0.00596\n",
      "[19]\ttrain-auc:0.78310+0.00587\ttest-auc:0.51781+0.00491\n",
      "[20]\ttrain-auc:0.78914+0.00419\ttest-auc:0.51718+0.00400\n",
      "[21]\ttrain-auc:0.79373+0.00615\ttest-auc:0.51745+0.00425\n",
      "[22]\ttrain-auc:0.79849+0.00778\ttest-auc:0.51767+0.00529\n",
      "[23]\ttrain-auc:0.80406+0.00862\ttest-auc:0.51746+0.00434\n",
      "[24]\ttrain-auc:0.81019+0.00768\ttest-auc:0.51732+0.00427\n",
      "[25]\ttrain-auc:0.81441+0.00731\ttest-auc:0.51851+0.00320\n",
      "[26]\ttrain-auc:0.81774+0.00823\ttest-auc:0.51825+0.00490\n",
      "[27]\ttrain-auc:0.82220+0.00827\ttest-auc:0.51791+0.00524\n",
      "[28]\ttrain-auc:0.82610+0.00810\ttest-auc:0.51741+0.00542\n",
      "[29]\ttrain-auc:0.83121+0.00705\ttest-auc:0.51654+0.00499\n",
      "[30]\ttrain-auc:0.83525+0.00594\ttest-auc:0.51717+0.00352\n",
      "[31]\ttrain-auc:0.83915+0.00476\ttest-auc:0.51684+0.00402\n",
      "[32]\ttrain-auc:0.84219+0.00379\ttest-auc:0.51661+0.00401\n",
      "[33]\ttrain-auc:0.84499+0.00340\ttest-auc:0.51751+0.00288\n",
      "[34]\ttrain-auc:0.84747+0.00315\ttest-auc:0.51822+0.00201\n",
      "[35]\ttrain-auc:0.84879+0.00346\ttest-auc:0.51821+0.00178\n",
      "[36]\ttrain-auc:0.85209+0.00283\ttest-auc:0.51873+0.00169\n",
      "[37]\ttrain-auc:0.85482+0.00248\ttest-auc:0.51881+0.00113\n",
      "[38]\ttrain-auc:0.85836+0.00377\ttest-auc:0.51765+0.00121\n",
      "[39]\ttrain-auc:0.86141+0.00468\ttest-auc:0.51748+0.00086\n",
      "[40]\ttrain-auc:0.86426+0.00360\ttest-auc:0.51807+0.00175\n",
      "[41]\ttrain-auc:0.86627+0.00284\ttest-auc:0.51732+0.00178\n",
      "[42]\ttrain-auc:0.86863+0.00371\ttest-auc:0.51776+0.00141\n",
      "[43]\ttrain-auc:0.87068+0.00374\ttest-auc:0.51728+0.00187\n",
      "[44]\ttrain-auc:0.87287+0.00264\ttest-auc:0.51706+0.00259\n",
      "[45]\ttrain-auc:0.87514+0.00231\ttest-auc:0.51724+0.00201\n",
      "[46]\ttrain-auc:0.87796+0.00278\ttest-auc:0.51741+0.00180\n",
      "[47]\ttrain-auc:0.88007+0.00344\ttest-auc:0.51772+0.00271\n",
      "[48]\ttrain-auc:0.88157+0.00341\ttest-auc:0.51730+0.00220\n",
      "[49]\ttrain-auc:0.88339+0.00300\ttest-auc:0.51785+0.00257\n",
      "[50]\ttrain-auc:0.88562+0.00317\ttest-auc:0.51782+0.00296\n",
      "[51]\ttrain-auc:0.88698+0.00256\ttest-auc:0.51781+0.00309\n",
      "[52]\ttrain-auc:0.88906+0.00274\ttest-auc:0.51804+0.00256\n",
      "[53]\ttrain-auc:0.89129+0.00322\ttest-auc:0.51825+0.00324\n",
      "[54]\ttrain-auc:0.89342+0.00306\ttest-auc:0.51856+0.00322\n",
      "[55]\ttrain-auc:0.89465+0.00358\ttest-auc:0.51863+0.00340\n",
      "[56]\ttrain-auc:0.89702+0.00314\ttest-auc:0.51952+0.00409\n",
      "[57]\ttrain-auc:0.89884+0.00351\ttest-auc:0.51924+0.00428\n",
      "[58]\ttrain-auc:0.90004+0.00415\ttest-auc:0.51918+0.00399\n",
      "[59]\ttrain-auc:0.90238+0.00479\ttest-auc:0.51871+0.00426\n",
      "[60]\ttrain-auc:0.90412+0.00506\ttest-auc:0.51818+0.00433\n",
      "[61]\ttrain-auc:0.90655+0.00571\ttest-auc:0.51828+0.00417\n",
      "[62]\ttrain-auc:0.90887+0.00503\ttest-auc:0.51798+0.00462\n",
      "[63]\ttrain-auc:0.91061+0.00523\ttest-auc:0.51832+0.00440\n",
      "[64]\ttrain-auc:0.91187+0.00569\ttest-auc:0.51844+0.00419\n",
      "[65]\ttrain-auc:0.91315+0.00597\ttest-auc:0.51884+0.00498\n",
      "[66]\ttrain-auc:0.91537+0.00612\ttest-auc:0.51864+0.00457\n",
      "[67]\ttrain-auc:0.91609+0.00604\ttest-auc:0.51891+0.00452\n",
      "[68]\ttrain-auc:0.91766+0.00572\ttest-auc:0.51850+0.00478\n",
      "[69]\ttrain-auc:0.91922+0.00610\ttest-auc:0.51877+0.00519\n",
      "[70]\ttrain-auc:0.92056+0.00658\ttest-auc:0.51916+0.00545\n",
      "[71]\ttrain-auc:0.92201+0.00668\ttest-auc:0.51907+0.00598\n",
      "[72]\ttrain-auc:0.92370+0.00706\ttest-auc:0.51904+0.00580\n",
      "[73]\ttrain-auc:0.92514+0.00648\ttest-auc:0.51881+0.00568\n",
      "[74]\ttrain-auc:0.92674+0.00607\ttest-auc:0.51879+0.00589\n",
      "[75]\ttrain-auc:0.92767+0.00596\ttest-auc:0.51904+0.00602\n",
      "[76]\ttrain-auc:0.92858+0.00564\ttest-auc:0.51939+0.00601\n",
      "[77]\ttrain-auc:0.93029+0.00578\ttest-auc:0.51922+0.00581\n",
      "[78]\ttrain-auc:0.93175+0.00605\ttest-auc:0.51968+0.00662\n",
      "[79]\ttrain-auc:0.93327+0.00610\ttest-auc:0.51995+0.00735\n",
      "[80]\ttrain-auc:0.93410+0.00606\ttest-auc:0.52045+0.00649\n",
      "[81]\ttrain-auc:0.93520+0.00619\ttest-auc:0.52107+0.00630\n",
      "[82]\ttrain-auc:0.93594+0.00583\ttest-auc:0.52086+0.00639\n",
      "[83]\ttrain-auc:0.93738+0.00544\ttest-auc:0.52050+0.00652\n",
      "[84]\ttrain-auc:0.93823+0.00527\ttest-auc:0.52042+0.00602\n",
      "[85]\ttrain-auc:0.93939+0.00519\ttest-auc:0.52043+0.00642\n",
      "[86]\ttrain-auc:0.94041+0.00533\ttest-auc:0.52089+0.00632\n",
      "[87]\ttrain-auc:0.94148+0.00539\ttest-auc:0.52108+0.00598\n",
      "[88]\ttrain-auc:0.94244+0.00585\ttest-auc:0.52148+0.00655\n",
      "[89]\ttrain-auc:0.94330+0.00568\ttest-auc:0.52100+0.00678\n",
      "[90]\ttrain-auc:0.94494+0.00574\ttest-auc:0.52111+0.00652\n",
      "[91]\ttrain-auc:0.94568+0.00554\ttest-auc:0.52140+0.00641\n",
      "[92]\ttrain-auc:0.94648+0.00574\ttest-auc:0.52126+0.00610\n",
      "[93]\ttrain-auc:0.94730+0.00602\ttest-auc:0.52115+0.00570\n",
      "[94]\ttrain-auc:0.94811+0.00591\ttest-auc:0.52113+0.00597\n",
      "[95]\ttrain-auc:0.94918+0.00588\ttest-auc:0.52096+0.00583\n",
      "[96]\ttrain-auc:0.95021+0.00576\ttest-auc:0.52050+0.00552\n",
      "[97]\ttrain-auc:0.95081+0.00526\ttest-auc:0.52070+0.00554\n",
      "[98]\ttrain-auc:0.95152+0.00531\ttest-auc:0.52027+0.00527\n",
      "[99]\ttrain-auc:0.95254+0.00481\ttest-auc:0.52040+0.00534\n",
      "Runtime: 47.79246687889099\n"
     ]
    }
   ],
   "source": [
    "# Global Wrapper \n",
    "\n",
    "start_time = time.time()\n",
    "\n",
    "eval_hist = xgb.cv(params=params, dtrain=eval_list[0][0], num_boost_round=100, nfold=5, folds=kf, metrics='auc', \n",
    "                   stratified=True, verbose_eval=True)\n",
    "\n",
    "print('Runtime:', time.time()- start_time)"
   ]
  },
  {
   "cell_type": "code",
   "execution_count": null,
   "id": "401e41a9",
   "metadata": {},
   "outputs": [],
   "source": []
  }
 ],
 "metadata": {
  "kernelspec": {
   "display_name": "Python 3 (ipykernel)",
   "language": "python",
   "name": "python3"
  },
  "language_info": {
   "codemirror_mode": {
    "name": "ipython",
    "version": 3
   },
   "file_extension": ".py",
   "mimetype": "text/x-python",
   "name": "python",
   "nbconvert_exporter": "python",
   "pygments_lexer": "ipython3",
   "version": "3.9.7"
  }
 },
 "nbformat": 4,
 "nbformat_minor": 5
}
